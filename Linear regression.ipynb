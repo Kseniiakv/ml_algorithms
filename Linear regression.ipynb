{
 "cells": [
  {
   "cell_type": "code",
   "execution_count": 1,
   "metadata": {
    "collapsed": true
   },
   "outputs": [],
   "source": [
    "import numpy as np\n",
    "from matplotlib import pyplot as plt\n",
    "import pandas as pd\n",
    "\n",
    "% matplotlib inline"
   ]
  },
  {
   "cell_type": "code",
   "execution_count": 2,
   "metadata": {
    "collapsed": false
   },
   "outputs": [],
   "source": [
    "def cost_func(X, y, theta, lambda_coeff):\n",
    "    \"\"\"Return value of cost function for linear regression for given theta, using L2 regularization\"\"\"\n",
    "    m = len(y)\n",
    "    cost = 1 / (2*m) * (np.sum((X.dot(theta) - y)**2) + lambda_coeff * (np.sum(theta[1:]**2)))\n",
    "    return cost"
   ]
  },
  {
   "cell_type": "code",
   "execution_count": 3,
   "metadata": {
    "collapsed": true
   },
   "outputs": [],
   "source": [
    "def feature_normalize(X):\n",
    "    \"\"\"Return normalized X, arrays of mean and standard deviations of columns in X\"\"\"\n",
    "    mean = np.mean(X)\n",
    "    std = np.std(X)\n",
    "    X_norm = (X - mean)/std\n",
    "    return X_norm, mean, std"
   ]
  },
  {
   "cell_type": "code",
   "execution_count": 4,
   "metadata": {
    "collapsed": true
   },
   "outputs": [],
   "source": [
    "def gradient_desc(X, y, theta, alpha, lambda_coeff, num_iters):\n",
    "    \"\"\"Implementation on algorithm of gradient descent for multiple number of features using L2 regularization\"\"\"\n",
    "    m = len(y)\n",
    "    cost_history = []\n",
    "    for i in range(num_iters):\n",
    "        # expression for theta without regularization\n",
    "        theta_wo_reg = theta - (alpha/m) * np.dot(X.T,(np.dot(X, theta) - y)) \n",
    "        \n",
    "        temp = (1 - (alpha/m) * lambda_coeff) * theta_wo_reg\n",
    "        temp[0] = theta_wo_reg[0]\n",
    "        theta = temp\n",
    "        cost_history.append(cost_func(X, y, theta, lambda_coeff))\n",
    "\n",
    "    return theta, cost_history"
   ]
  },
  {
   "cell_type": "code",
   "execution_count": 5,
   "metadata": {
    "collapsed": false
   },
   "outputs": [],
   "source": [
    "def linear_regression(X, y, alpha, lambda_coeff, num_iters):   \n",
    "    \"\"\"Return theta vector received from gradient descent, means and standart deviations of columns in X \n",
    "    and values of cost function on every iteration of gradient descent\"\"\"\n",
    "    X, mean, std = feature_normalize(X)\n",
    "    X.insert(0, 'zero_feature', 1)\n",
    "    theta = np.zeros(len(X.columns))\n",
    "    theta, cost_history = gradient_desc(X, y, theta, alpha, lambda_coeff, num_iters)\n",
    "    \n",
    "    return X, theta, mean, std, cost_history"
   ]
  },
  {
   "cell_type": "code",
   "execution_count": 6,
   "metadata": {
    "collapsed": true
   },
   "outputs": [],
   "source": [
    "def normal_eqn(X, y, lambda_coeff=0):  \n",
    "    \"\"\"Return theta vector received from solving normal equation\"\"\"\n",
    "    L = np.eye(X.shape[1])\n",
    "    L[0][0] = 0\n",
    "    theta = np.dot(np.dot(np.linalg.pinv(np.dot(X.T, X) + lambda_coeff * L), X.T), y)\n",
    "    cost = cost_func(X, y, theta, lambda_coeff)\n",
    "                    \n",
    "    return theta, cost"
   ]
  },
  {
   "cell_type": "markdown",
   "metadata": {},
   "source": [
    "# Linear regression for data with one feature"
   ]
  },
  {
   "cell_type": "code",
   "execution_count": 7,
   "metadata": {
    "collapsed": false
   },
   "outputs": [],
   "source": [
    "# Datasets were taken from machine learning course of Andrew Ng \n",
    "\n",
    "df = pd.read_csv('ex1data1.txt', names = ['population', 'profit'])\n",
    "df.head()\n",
    "X = df[df.columns[:-1]]\n",
    "y = df[df.columns[-1]]"
   ]
  },
  {
   "cell_type": "code",
   "execution_count": 8,
   "metadata": {
    "collapsed": false
   },
   "outputs": [
    {
     "data": {
      "image/png": "[encoded data removed]",
      "text/plain": [
       "<matplotlib.figure.Figure at 0x7fb2504d3a90>"
      ]
     },
     "metadata": {},
     "output_type": "display_data"
    },
    {
     "name": "stdout",
     "output_type": "stream",
     "text": [
      "Theta: [ 5.83913363  4.59304002]\n"
     ]
    }
   ],
   "source": [
    "plt.scatter(X, y);\n",
    "plt.title('Profits distribution');\n",
    "plt.xlabel('Population of City in 10,000s');\n",
    "plt.ylabel('Profit in $10,000s');\n",
    "\n",
    "alpha=0.03\n",
    "num_iters=500\n",
    "lambda_coeff=0.\n",
    "\n",
    "X_new, theta, mean, std, cost_history = linear_regression(X, y, alpha, lambda_coeff, num_iters)\n",
    "\n",
    "#take two values from dataset to built straight line \n",
    "x_matrix = np.array((X_new.min().values, X_new.max().values))\n",
    "y_vector = np.dot(x_matrix, theta)\n",
    "x = [X_new.min()[1]*std+mean, X_new.max()[1]*std+mean]\n",
    "plt.plot(x, y_vector, color = 'r')\n",
    "\n",
    "plt.show()\n",
    "print('Theta:', theta)"
   ]
  },
  {
   "cell_type": "code",
   "execution_count": 9,
   "metadata": {
    "collapsed": false
   },
   "outputs": [
    {
     "data": {
      "image/png": "[encoded data removed]",
      "text/plain": [
       "<matplotlib.figure.Figure at 0x7fb250261908>"
      ]
     },
     "metadata": {},
     "output_type": "display_data"
    }
   ],
   "source": [
    "plt.plot(cost_history)\n",
    "plt.xlabel('Iterations')\n",
    "plt.ylabel('Value of cost function')\n",
    "plt.show()"
   ]
  },
  {
   "cell_type": "markdown",
   "metadata": {},
   "source": [
    "## Normal Equation"
   ]
  },
  {
   "cell_type": "code",
   "execution_count": 10,
   "metadata": {
    "collapsed": false
   },
   "outputs": [
    {
     "data": {
      "image/png": "[encoded data removed]",
      "text/plain": [
       "<matplotlib.figure.Figure at 0x7fb24dbe8390>"
      ]
     },
     "metadata": {},
     "output_type": "display_data"
    },
    {
     "name": "stdout",
     "output_type": "stream",
     "text": [
      "Theta: [-3.89578088  1.19303364]\n"
     ]
    }
   ],
   "source": [
    "plt.scatter(X, y);\n",
    "plt.title('Profits distribution');\n",
    "plt.xlabel('Population of City in 10,000s');\n",
    "plt.ylabel('Profit in $10,000s');\n",
    "\n",
    "\n",
    "X.insert(0, 'zero_feature', 1)\n",
    "theta_n, cost_n = normal_eqn(X, y, lambda_coeff)\n",
    "x_matrix = np.array((X.min().values, X.max().values))\n",
    "y_vector = np.dot(x_matrix, theta_n)\n",
    "plt.plot(x, y_vector, color = 'r')\n",
    "\n",
    "plt.show()\n",
    "\n",
    "# Note that values are different from received earlier, because this time X matrix was not normalized.\n",
    "# Normal equation method does not require this\n",
    "print('Theta:', theta_n)"
   ]
  },
  {
   "cell_type": "markdown",
   "metadata": {},
   "source": [
    "## Comparing with sklearn"
   ]
  },
  {
   "cell_type": "code",
   "execution_count": 11,
   "metadata": {
    "collapsed": false
   },
   "outputs": [
    {
     "data": {
      "text/plain": [
       "LinearRegression(copy_X=True, fit_intercept=True, n_jobs=1, normalize=False)"
      ]
     },
     "execution_count": 11,
     "metadata": {},
     "output_type": "execute_result"
    }
   ],
   "source": [
    "from sklearn import linear_model\n",
    "\n",
    "df = pd.read_csv('ex1data1.txt', names = ['population', 'profit'])\n",
    "df.head()\n",
    "X = df[df.columns[:-1]]\n",
    "y = df[df.columns[-1]]\n",
    "X, mean, std = feature_normalize(X)\n",
    "X.insert(0, 'zero_feature', 1)\n",
    "\n",
    "regr = linear_model.LinearRegression()\n",
    "regr.fit(X, y)"
   ]
  },
  {
   "cell_type": "code",
   "execution_count": 12,
   "metadata": {
    "collapsed": false
   },
   "outputs": [
    {
     "name": "stdout",
     "output_type": "stream",
     "text": [
      "sklearn:\n",
      " 5.83913505155 4.59304113336\n",
      "my theta for gradient descent:\n",
      " 5.83913363178 4.59304001658\n"
     ]
    }
   ],
   "source": [
    "print('sklearn:\\n', regr.intercept_, regr.coef_[1])\n",
    "print('my theta for gradient descent:\\n', *theta)"
   ]
  },
  {
   "cell_type": "markdown",
   "metadata": {},
   "source": [
    "# Multiple features"
   ]
  },
  {
   "cell_type": "code",
   "execution_count": 13,
   "metadata": {
    "collapsed": false
   },
   "outputs": [
    {
     "data": {
      "text/html": [
       "<div>\n",
       "<table border=\"1\" class=\"dataframe\">\n",
       "  <thead>\n",
       "    <tr style=\"text-align: right;\">\n",
       "      <th></th>\n",
       "      <th>size of a house</th>\n",
       "      <th>number of bedrooms</th>\n",
       "      <th>price</th>\n",
       "    </tr>\n",
       "  </thead>\n",
       "  <tbody>\n",
       "    <tr>\n",
       "      <th>0</th>\n",
       "      <td>2104</td>\n",
       "      <td>3</td>\n",
       "      <td>399900</td>\n",
       "    </tr>\n",
       "    <tr>\n",
       "      <th>1</th>\n",
       "      <td>1600</td>\n",
       "      <td>3</td>\n",
       "      <td>329900</td>\n",
       "    </tr>\n",
       "    <tr>\n",
       "      <th>2</th>\n",
       "      <td>2400</td>\n",
       "      <td>3</td>\n",
       "      <td>369000</td>\n",
       "    </tr>\n",
       "    <tr>\n",
       "      <th>3</th>\n",
       "      <td>1416</td>\n",
       "      <td>2</td>\n",
       "      <td>232000</td>\n",
       "    </tr>\n",
       "    <tr>\n",
       "      <th>4</th>\n",
       "      <td>3000</td>\n",
       "      <td>4</td>\n",
       "      <td>539900</td>\n",
       "    </tr>\n",
       "  </tbody>\n",
       "</table>\n",
       "</div>"
      ],
      "text/plain": [
       "   size of a house  number of bedrooms   price\n",
       "0             2104                   3  399900\n",
       "1             1600                   3  329900\n",
       "2             2400                   3  369000\n",
       "3             1416                   2  232000\n",
       "4             3000                   4  539900"
      ]
     },
     "execution_count": 13,
     "metadata": {},
     "output_type": "execute_result"
    }
   ],
   "source": [
    "df2 = pd.read_csv('ex1data2.txt', names = ['size of a house', 'number of bedrooms', 'price'])\n",
    "X2 = df2[df2.columns[:-1]]\n",
    "y2 = df2[df2.columns[-1]]\n",
    "df2.head()"
   ]
  },
  {
   "cell_type": "code",
   "execution_count": 14,
   "metadata": {
    "collapsed": false
   },
   "outputs": [
    {
     "name": "stdout",
     "output_type": "stream",
     "text": [
      "Theta: 340412.576804 106025.630028 -4541.2314074\n"
     ]
    },
    {
     "data": {
      "image/png": "[encoded data removed]",
      "text/plain": [
       "<matplotlib.figure.Figure at 0x7fb244cd4ba8>"
      ]
     },
     "metadata": {},
     "output_type": "display_data"
    }
   ],
   "source": [
    "alpha=0.03\n",
    "num_iters=500\n",
    "lambda_coeff=1\n",
    "\n",
    "X_new2, theta2, mean2, std2, cost_history2 = linear_regression(X2, y2, alpha, lambda_coeff, num_iters)\n",
    "\n",
    "print('Theta:', *theta2)\n",
    "\n",
    "plt.plot(cost_history2)\n",
    "plt.xlabel('Iterations')\n",
    "plt.ylabel('Value of cost function')\n",
    "plt.show()"
   ]
  },
  {
   "cell_type": "markdown",
   "metadata": {},
   "source": [
    "## Normal equation"
   ]
  },
  {
   "cell_type": "code",
   "execution_count": 15,
   "metadata": {
    "collapsed": false
   },
   "outputs": [
    {
     "name": "stdout",
     "output_type": "stream",
     "text": [
      "Theta: 88647.5902325 138.967718583 -8284.92788432\n"
     ]
    }
   ],
   "source": [
    "X2.insert(0, 'zero_feature', 1)\n",
    "theta_n2, cost_n2 = normal_eqn(X2, y2, lambda_coeff)\n",
    "print('Theta:', *theta_n2)"
   ]
  },
  {
   "cell_type": "markdown",
   "metadata": {},
   "source": [
    "## Comparing with sklearn"
   ]
  },
  {
   "cell_type": "code",
   "execution_count": 16,
   "metadata": {
    "collapsed": false
   },
   "outputs": [
    {
     "name": "stdout",
     "output_type": "stream",
     "text": [
      "sklearn:\n",
      " 340412.659574 109447.79647 -6578.35485416\n",
      "my theta for gradient descent:\n",
      " 340412.576804 106025.630028 -4541.2314074\n"
     ]
    }
   ],
   "source": [
    "X2 = df2[df2.columns[:-1]]\n",
    "y2 = df2[df2.columns[-1]]\n",
    "X2, mean2, std2 = feature_normalize(X2)\n",
    "X2.insert(0, 'zero_feature', 1)\n",
    "\n",
    "regr2 = linear_model.LinearRegression()\n",
    "regr2.fit(X2, y2)\n",
    "print('sklearn:\\n', regr2.intercept_, *regr2.coef_[1:])\n",
    "print('my theta for gradient descent:\\n', *theta2)"
   ]
  }
 ],
 "metadata": {
  "kernelspec": {
   "display_name": "Python 3",
   "language": "python",
   "name": "python3"
  },
  "language_info": {
   "codemirror_mode": {
    "name": "ipython",
    "version": 3
   },
   "file_extension": ".py",
   "mimetype": "text/x-python",
   "name": "python",
   "nbconvert_exporter": "python",
   "pygments_lexer": "ipython3",
   "version": "3.6.0"
  }
 },
 "nbformat": 4,
 "nbformat_minor": 2
}
