{
 "cells": [
  {
   "cell_type": "code",
   "execution_count": 1,
   "metadata": {
    "collapsed": true
   },
   "outputs": [],
   "source": [
    "import pandas as pd\n",
    "import numpy as np"
   ]
  },
  {
   "cell_type": "code",
   "execution_count": 2,
   "metadata": {
    "collapsed": false
   },
   "outputs": [
    {
     "data": {
      "text/html": [
       "<div>\n",
       "<table border=\"1\" class=\"dataframe\">\n",
       "  <thead>\n",
       "    <tr style=\"text-align: right;\">\n",
       "      <th></th>\n",
       "      <th>times pregnant</th>\n",
       "      <th>glucose</th>\n",
       "      <th>pressure</th>\n",
       "      <th>skin thickness (mm)</th>\n",
       "      <th>insulin (mu U/ml)</th>\n",
       "      <th>mass index</th>\n",
       "      <th>pedigree</th>\n",
       "      <th>age</th>\n",
       "      <th>class</th>\n",
       "    </tr>\n",
       "  </thead>\n",
       "  <tbody>\n",
       "    <tr>\n",
       "      <th>0</th>\n",
       "      <td>6</td>\n",
       "      <td>148</td>\n",
       "      <td>72</td>\n",
       "      <td>35</td>\n",
       "      <td>0</td>\n",
       "      <td>33.6</td>\n",
       "      <td>0.627</td>\n",
       "      <td>50</td>\n",
       "      <td>1</td>\n",
       "    </tr>\n",
       "    <tr>\n",
       "      <th>1</th>\n",
       "      <td>1</td>\n",
       "      <td>85</td>\n",
       "      <td>66</td>\n",
       "      <td>29</td>\n",
       "      <td>0</td>\n",
       "      <td>26.6</td>\n",
       "      <td>0.351</td>\n",
       "      <td>31</td>\n",
       "      <td>0</td>\n",
       "    </tr>\n",
       "    <tr>\n",
       "      <th>2</th>\n",
       "      <td>8</td>\n",
       "      <td>183</td>\n",
       "      <td>64</td>\n",
       "      <td>0</td>\n",
       "      <td>0</td>\n",
       "      <td>23.3</td>\n",
       "      <td>0.672</td>\n",
       "      <td>32</td>\n",
       "      <td>1</td>\n",
       "    </tr>\n",
       "    <tr>\n",
       "      <th>3</th>\n",
       "      <td>1</td>\n",
       "      <td>89</td>\n",
       "      <td>66</td>\n",
       "      <td>23</td>\n",
       "      <td>94</td>\n",
       "      <td>28.1</td>\n",
       "      <td>0.167</td>\n",
       "      <td>21</td>\n",
       "      <td>0</td>\n",
       "    </tr>\n",
       "    <tr>\n",
       "      <th>4</th>\n",
       "      <td>0</td>\n",
       "      <td>137</td>\n",
       "      <td>40</td>\n",
       "      <td>35</td>\n",
       "      <td>168</td>\n",
       "      <td>43.1</td>\n",
       "      <td>2.288</td>\n",
       "      <td>33</td>\n",
       "      <td>1</td>\n",
       "    </tr>\n",
       "  </tbody>\n",
       "</table>\n",
       "</div>"
      ],
      "text/plain": [
       "   times pregnant  glucose  pressure  skin thickness (mm)  insulin (mu U/ml)  \\\n",
       "0               6      148        72                   35                  0   \n",
       "1               1       85        66                   29                  0   \n",
       "2               8      183        64                    0                  0   \n",
       "3               1       89        66                   23                 94   \n",
       "4               0      137        40                   35                168   \n",
       "\n",
       "   mass index  pedigree  age  class  \n",
       "0        33.6     0.627   50      1  \n",
       "1        26.6     0.351   31      0  \n",
       "2        23.3     0.672   32      1  \n",
       "3        28.1     0.167   21      0  \n",
       "4        43.1     2.288   33      1  "
      ]
     },
     "execution_count": 2,
     "metadata": {},
     "output_type": "execute_result"
    }
   ],
   "source": [
    "# Pima Indians Diabetes Database\n",
    "df = pd.read_csv('pima-indians-diabetes.csv', names = ['times pregnant', 'glucose', 'pressure',\n",
    "                                                 'skin thickness (mm)', 'insulin (mu U/ml)', \n",
    "                                                  'mass index', 'pedigree', 'age', 'class'])\n",
    "df.head()"
   ]
  },
  {
   "cell_type": "code",
   "execution_count": 3,
   "metadata": {
    "collapsed": false
   },
   "outputs": [],
   "source": [
    "#splitting dataset into test and train randomly with given ratio\n",
    "ratio = 0.8\n",
    "msk = np.random.rand(len(df)) < ratio\n",
    "\n",
    "train = df[msk]\n",
    "train_x = train[train.columns[:-1]]\n",
    "train_y = train[train.columns[-1]]\n",
    "\n",
    "test = df[~msk]\n",
    "test_x = test[test.columns[:-1]]\n",
    "test_y = test[test.columns[-1]]"
   ]
  },
  {
   "cell_type": "code",
   "execution_count": 4,
   "metadata": {
    "collapsed": true
   },
   "outputs": [],
   "source": [
    "#calculate mean, variance prior probabilities for each class in test table\n",
    "target = 'class'\n",
    "mean = train.groupby([target]).mean()\n",
    "var = train.groupby([target]).var()\n",
    "prior = train[target].value_counts() / len(train)"
   ]
  },
  {
   "cell_type": "code",
   "execution_count": 5,
   "metadata": {
    "collapsed": false
   },
   "outputs": [],
   "source": [
    "def naive_bayes(test):\n",
    "    \"\"\"Return predictions for given test dataset\"\"\"    \n",
    "    probabilities = {}\n",
    "    for cl in prior.index:\n",
    "        gauss = 1 / (np.sqrt(2 * np.pi * var.ix[cl])) *  \\\n",
    "                          np.exp(-0.5 *((test-mean.ix[cl])**2) / var.ix[cl])  \n",
    "        likelihood = gauss.product(axis = 1)\n",
    "        joint_prob = likelihood*prior[cl]\n",
    "        probabilities[cl] = joint_prob\n",
    "    predictions = list(pd.DataFrame(probabilities).idxmax(axis=1))\n",
    "    return predictions  "
   ]
  },
  {
   "cell_type": "code",
   "execution_count": 6,
   "metadata": {
    "collapsed": false
   },
   "outputs": [],
   "source": [
    "my_pred = naive_bayes(test_x)"
   ]
  },
  {
   "cell_type": "markdown",
   "metadata": {},
   "source": [
    "# Comparing with sklearn"
   ]
  },
  {
   "cell_type": "code",
   "execution_count": 7,
   "metadata": {
    "collapsed": true
   },
   "outputs": [],
   "source": [
    "from sklearn.naive_bayes import GaussianNB"
   ]
  },
  {
   "cell_type": "code",
   "execution_count": 8,
   "metadata": {
    "collapsed": false
   },
   "outputs": [
    {
     "name": "stdout",
     "output_type": "stream",
     "text": [
      "Number of distinct values:  0\n"
     ]
    }
   ],
   "source": [
    "model = GaussianNB()\n",
    "model.fit(train_x, train_y)\n",
    "\n",
    "sklearn_pred = model.predict(test_x)\n",
    "\n",
    "print('Number of distinct values: ', sum(np.abs(sklearn_pred-my_pred)))"
   ]
  },
  {
   "cell_type": "markdown",
   "metadata": {},
   "source": [
    "# Accuracy"
   ]
  },
  {
   "cell_type": "code",
   "execution_count": 9,
   "metadata": {
    "collapsed": false
   },
   "outputs": [
    {
     "name": "stdout",
     "output_type": "stream",
     "text": [
      "Accuracy:  0.75\n"
     ]
    }
   ],
   "source": [
    "print('Accuracy: ', 1 - sum(np.abs(my_pred-test_y))/len(my_pred))"
   ]
  }
 ],
 "metadata": {
  "kernelspec": {
   "display_name": "Python 3",
   "language": "python",
   "name": "python3"
  },
  "language_info": {
   "codemirror_mode": {
    "name": "ipython",
    "version": 3
   },
   "file_extension": ".py",
   "mimetype": "text/x-python",
   "name": "python",
   "nbconvert_exporter": "python",
   "pygments_lexer": "ipython3",
   "version": "3.6.0"
  }
 },
 "nbformat": 4,
 "nbformat_minor": 2
}
