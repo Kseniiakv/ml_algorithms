{
 "cells": [
  {
   "cell_type": "code",
   "execution_count": 1,
   "metadata": {
    "collapsed": true
   },
   "outputs": [],
   "source": [
    "import numpy as np\n",
    "from matplotlib import pyplot as plt\n",
    "import pandas as pd\n",
    "\n",
    "% matplotlib inline"
   ]
  },
  {
   "cell_type": "code",
   "execution_count": 2,
   "metadata": {
    "collapsed": true
   },
   "outputs": [],
   "source": [
    "def sigmoid(z):\n",
    "    return 1/(1 + np.exp(-z))"
   ]
  },
  {
   "cell_type": "code",
   "execution_count": 3,
   "metadata": {
    "collapsed": false
   },
   "outputs": [],
   "source": [
    "def cost_func(X, y, theta, lambda_coeff):\n",
    "    \"\"\"Return value of cost function for logistic regression for given theta, using L2 regularization\"\"\"\n",
    "    m = len(y)\n",
    "    h = sigmoid(np.dot(X, theta))\n",
    "    cost = (1/m) * (-np.dot(y.T, np.log(h)) -np.dot((1-y).T, np.log(1-h))) \\\n",
    "                   + (lambda_coeff / (2*m)) * (np.sum(theta[1:]**2))   \n",
    "    return cost"
   ]
  },
  {
   "cell_type": "code",
   "execution_count": 4,
   "metadata": {
    "collapsed": true
   },
   "outputs": [],
   "source": [
    "def feature_normalize(X):\n",
    "    \"\"\"Return normalized X, arrays of mean and standard deviations of columns in X\"\"\"\n",
    "    mean = np.mean(X)\n",
    "    std = np.std(X)\n",
    "    X_norm = (X - mean)/std\n",
    "    return X_norm, mean, std"
   ]
  },
  {
   "cell_type": "code",
   "execution_count": 5,
   "metadata": {
    "collapsed": true
   },
   "outputs": [],
   "source": [
    "def gradient_desc(X, y, theta, alpha, lambda_coeff, num_iters):\n",
    "    \"\"\"Implementation on algorithm of gradient descent for multiple number of features using L2 regularization\"\"\"\n",
    "    m = len(y)\n",
    "    cost_history = []\n",
    "    for i in range(num_iters):\n",
    "        h = sigmoid(np.dot(X, theta))\n",
    "        reg_term = (alpha/m) * lambda_coeff * theta         \n",
    "        temp = theta - (alpha/m) * np.dot(X.T, (h - y)) - reg_term\n",
    "        temp[0] += reg_term[0]\n",
    "        theta = temp\n",
    "        cost_history.append(cost_func(X, y, theta, lambda_coeff))\n",
    "\n",
    "    return theta, cost_history"
   ]
  },
  {
   "cell_type": "code",
   "execution_count": 6,
   "metadata": {
    "collapsed": true
   },
   "outputs": [],
   "source": [
    "def logistic_regression(X, y, alpha, lambda_coeff, num_iters):   \n",
    "    \"\"\"Return theta vector received from gradient descent, means and standart deviations of columns in X \n",
    "    and values of cost function on every iteration of gradient descent\"\"\"\n",
    "    X, mean, std = feature_normalize(X)\n",
    "    X.insert(0, 'zero_feature', 1)\n",
    "    theta = np.zeros(len(X.columns))\n",
    "    theta, cost_history = gradient_desc(X, y, theta, alpha, lambda_coeff, num_iters)\n",
    "    \n",
    "    return X, theta, mean, std, cost_history"
   ]
  },
  {
   "cell_type": "markdown",
   "metadata": {},
   "source": [
    "# Logistic regression for data with one feature"
   ]
  },
  {
   "cell_type": "code",
   "execution_count": 7,
   "metadata": {
    "collapsed": false
   },
   "outputs": [
    {
     "data": {
      "text/html": [
       "<div>\n",
       "<table border=\"1\" class=\"dataframe\">\n",
       "  <thead>\n",
       "    <tr style=\"text-align: right;\">\n",
       "      <th></th>\n",
       "      <th>exam1</th>\n",
       "      <th>exam2</th>\n",
       "      <th>admittion</th>\n",
       "    </tr>\n",
       "  </thead>\n",
       "  <tbody>\n",
       "    <tr>\n",
       "      <th>0</th>\n",
       "      <td>34.623660</td>\n",
       "      <td>78.024693</td>\n",
       "      <td>0</td>\n",
       "    </tr>\n",
       "    <tr>\n",
       "      <th>1</th>\n",
       "      <td>30.286711</td>\n",
       "      <td>43.894998</td>\n",
       "      <td>0</td>\n",
       "    </tr>\n",
       "    <tr>\n",
       "      <th>2</th>\n",
       "      <td>35.847409</td>\n",
       "      <td>72.902198</td>\n",
       "      <td>0</td>\n",
       "    </tr>\n",
       "    <tr>\n",
       "      <th>3</th>\n",
       "      <td>60.182599</td>\n",
       "      <td>86.308552</td>\n",
       "      <td>1</td>\n",
       "    </tr>\n",
       "    <tr>\n",
       "      <th>4</th>\n",
       "      <td>79.032736</td>\n",
       "      <td>75.344376</td>\n",
       "      <td>1</td>\n",
       "    </tr>\n",
       "  </tbody>\n",
       "</table>\n",
       "</div>"
      ],
      "text/plain": [
       "       exam1      exam2  admittion\n",
       "0  34.623660  78.024693          0\n",
       "1  30.286711  43.894998          0\n",
       "2  35.847409  72.902198          0\n",
       "3  60.182599  86.308552          1\n",
       "4  79.032736  75.344376          1"
      ]
     },
     "execution_count": 7,
     "metadata": {},
     "output_type": "execute_result"
    }
   ],
   "source": [
    "# Datasets were taken from machine learning course of Andrew Ng \n",
    "\n",
    "df = pd.read_csv('ex2data1.txt', names = ['exam1', 'exam2', 'admittion'])\n",
    "\n",
    "X = df[df.columns[:-1]]\n",
    "y = df[df.columns[-1]]\n",
    "positive = df[df.admittion == 1]\n",
    "negative = df[df.admittion == 0]\n",
    "df.head()"
   ]
  },
  {
   "cell_type": "code",
   "execution_count": 8,
   "metadata": {
    "collapsed": false
   },
   "outputs": [
    {
     "name": "stdout",
     "output_type": "stream",
     "text": [
      "Theta:  [ 1.00144658  2.2831278   2.08994717]\n"
     ]
    },
    {
     "data": {
      "text/plain": [
       "[<matplotlib.lines.Line2D at 0x7fc6969b1160>]"
      ]
     },
     "execution_count": 8,
     "metadata": {},
     "output_type": "execute_result"
    },
    {
     "data": {
      "image/png": "[encoded data removed]",
      "text/plain": [
       "<matplotlib.figure.Figure at 0x7fc6990a0668>"
      ]
     },
     "metadata": {},
     "output_type": "display_data"
    }
   ],
   "source": [
    "ax = positive.plot(kind='scatter', x='exam1', y='exam2',marker='+', c='g', label='Admitted')\n",
    "negative.plot(kind='scatter', x='exam1', y='exam2',marker='o', c='r', label='Not admitted', ax=ax)\n",
    "\n",
    "alpha=0.1\n",
    "num_iters=2000\n",
    "lambda_coeff=1\n",
    "\n",
    "X_new, theta, mean, std, cost_history = logistic_regression(X, y, alpha, lambda_coeff, num_iters)\n",
    "h = sigmoid(np.dot(X_new, theta))\n",
    "predict = h >= 0.5\n",
    "print(\"Theta: \", theta)\n",
    "\n",
    "# drawing decision boundary\n",
    "# Only need 2 points to define a line, so choose two endpoints from x axis\n",
    "x1_vector = np.array([X['exam1'].min(), X['exam1'].max()])\n",
    "#normalise points\n",
    "x1_norm = (x1_vector - mean[0])/ std[0]\n",
    "#using equation theta0 + theta1*x1+theta2*x2 = 0, find x2\n",
    "x2_norm = (-1/theta[2])*(theta[1]*x1_norm + theta[0])\n",
    "#renormalize this vector to build graph\n",
    "x2_vector = x2_norm * std[1] + mean[1] \n",
    "plt.plot(x1_vector, x2_vector, color = 'b')"
   ]
  },
  {
   "cell_type": "code",
   "execution_count": 9,
   "metadata": {
    "collapsed": false
   },
   "outputs": [
    {
     "data": {
      "text/plain": [
       "<matplotlib.text.Text at 0x7fc69665b6a0>"
      ]
     },
     "execution_count": 9,
     "metadata": {},
     "output_type": "execute_result"
    },
    {
     "data": {
      "image/png": "[encoded data removed]",
      "text/plain": [
       "<matplotlib.figure.Figure at 0x7fc699095390>"
      ]
     },
     "metadata": {},
     "output_type": "display_data"
    }
   ],
   "source": [
    "#predicted values\n",
    "positive_pred = df[predict == 1]\n",
    "negative_pred = df[predict == 0]\n",
    "ax = positive_pred.plot(kind='scatter', x='exam1', y='exam2',marker='+', c='g', label='Admitted')\n",
    "negative_pred.plot(kind='scatter', x='exam1', y='exam2',marker='o', c='r', label='Not admitted', ax=ax)\n",
    "plt.title('Predicted')"
   ]
  },
  {
   "cell_type": "code",
   "execution_count": 10,
   "metadata": {
    "collapsed": false
   },
   "outputs": [
    {
     "data": {
      "image/png": "[encoded data removed]",
      "text/plain": [
       "<matplotlib.figure.Figure at 0x7fc6965b6c50>"
      ]
     },
     "metadata": {},
     "output_type": "display_data"
    }
   ],
   "source": [
    "plt.plot(cost_history)\n",
    "plt.xlabel('Iterations')\n",
    "plt.ylabel('Value of cost function')\n",
    "plt.show()"
   ]
  },
  {
   "cell_type": "markdown",
   "metadata": {},
   "source": [
    "# Comparing with sklearn"
   ]
  },
  {
   "cell_type": "code",
   "execution_count": 11,
   "metadata": {
    "collapsed": false
   },
   "outputs": [
    {
     "name": "stdout",
     "output_type": "stream",
     "text": [
      "Number of dictinct predictions:  0\n"
     ]
    }
   ],
   "source": [
    "from sklearn import linear_model\n",
    "\n",
    "X, mean, std = feature_normalize(X)\n",
    "X.insert(0, 'zero_feature', 1)\n",
    "\n",
    "regr = linear_model.LogisticRegression(penalty='l2', C=1)\n",
    "regr.fit(X, y)\n",
    "sklearn_pred = regr.predict(X)\n",
    "\n",
    "# calculate number of dictinct predictions \n",
    "print('Number of dictinct predictions: ', sum(np.abs(sklearn_pred-predict)))\n",
    "#print(np.array(list(map(int,predict))))"
   ]
  },
  {
   "cell_type": "code",
   "execution_count": 12,
   "metadata": {
    "collapsed": false
   },
   "outputs": [
    {
     "name": "stdout",
     "output_type": "stream",
     "text": [
      "Accuracy:  0.89\n"
     ]
    }
   ],
   "source": [
    "# calculate accuracy\n",
    "print('Accuracy: ', 1 - sum(np.abs(y-predict))/len(y))"
   ]
  }
 ],
 "metadata": {
  "kernelspec": {
   "display_name": "Python 3",
   "language": "python",
   "name": "python3"
  },
  "language_info": {
   "codemirror_mode": {
    "name": "ipython",
    "version": 3
   },
   "file_extension": ".py",
   "mimetype": "text/x-python",
   "name": "python",
   "nbconvert_exporter": "python",
   "pygments_lexer": "ipython3",
   "version": "3.6.0"
  }
 },
 "nbformat": 4,
 "nbformat_minor": 2
}
