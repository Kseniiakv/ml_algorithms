{
 "cells": [
  {
   "cell_type": "code",
   "execution_count": 1,
   "metadata": {
    "collapsed": true
   },
   "outputs": [],
   "source": [
    "import numpy as np\n",
    "from sklearn.datasets import load_digits\n",
    "import matplotlib.pyplot as plt \n",
    "\n",
    "#implementation of neural network with 1 hidden layer"
   ]
  },
  {
   "cell_type": "code",
   "execution_count": 2,
   "metadata": {
    "collapsed": false
   },
   "outputs": [
    {
     "name": "stdout",
     "output_type": "stream",
     "text": [
      "(1257, 64) (1257, 1) (540, 64) (540, 1)\n"
     ]
    }
   ],
   "source": [
    "digits = load_digits()\n",
    "\n",
    "# split data to train and test \n",
    "train_size = int(0.7*digits.data.shape[0])\n",
    "X = digits.data[:train_size]\n",
    "y_train = digits.target[:train_size]\n",
    "y_train = y_train.reshape((len(y_train),1))\n",
    "\n",
    "x_test = digits.data[train_size:]\n",
    "y_test = digits.target[train_size:]\n",
    "y_test = y_test.reshape((len(y_test),1))\n",
    "print(X.shape, y_train.shape, x_test.shape, y_test.shape)"
   ]
  },
  {
   "cell_type": "code",
   "execution_count": 3,
   "metadata": {
    "collapsed": true
   },
   "outputs": [],
   "source": [
    "def binarized_labels(y, num_of_labels):\n",
    "    \"\"\"Return values of labels as arrays of binary data\"\"\"\n",
    "    y_new = np.zeros((y.shape[0], num_of_labels))\n",
    "    for k in range(len(y)):\n",
    "        y_new[k][y[k]] = 1\n",
    "    return y_new  "
   ]
  },
  {
   "cell_type": "code",
   "execution_count": 4,
   "metadata": {
    "collapsed": false
   },
   "outputs": [],
   "source": [
    "y = binarized_labels(y_train, 10)"
   ]
  },
  {
   "cell_type": "code",
   "execution_count": 5,
   "metadata": {
    "collapsed": true
   },
   "outputs": [],
   "source": [
    "def initialize_theta(L_in, L_out, eps_init=0.12):\n",
    "    \"\"\"Randomly initialize matrices of weights with numbers from interval [-eps, eps]\"\"\"\n",
    "    np.random.seed(3)\n",
    "    return np.random.randn(L_out, 1 + L_in)*2*eps_init - eps_init"
   ]
  },
  {
   "cell_type": "code",
   "execution_count": 6,
   "metadata": {
    "collapsed": true
   },
   "outputs": [],
   "source": [
    "def sigmoid(z):\n",
    "    return 1/(1+np.exp(-z))"
   ]
  },
  {
   "cell_type": "code",
   "execution_count": 7,
   "metadata": {
    "collapsed": false
   },
   "outputs": [],
   "source": [
    "def forward_prop(X, y, Theta1, Theta2): \n",
    "    m = X.shape[0]\n",
    "    a1 = np.insert(X, 0, 1, axis = 1)\n",
    "    z2 = np.dot(a1, Theta1.T)\n",
    "    a2 = sigmoid(z2)\n",
    "    a2 = np.insert(a2, 0, 1, axis = 1)\n",
    "    z3 = np.dot(a2, Theta2.T)\n",
    "    htheta = sigmoid(z3)\n",
    "    return a1, a2, htheta"
   ]
  },
  {
   "cell_type": "code",
   "execution_count": 8,
   "metadata": {
    "collapsed": false
   },
   "outputs": [],
   "source": [
    "def cost_func(htheta, y, Theta1, Theta2, rlambda):\n",
    "    m = y.shape[0]\n",
    "    cost = (1/m) * np.sum(- y * np.log(htheta) - (1 - y) * np.log(1 - htheta))\n",
    "    regularization = rlambda/(2*m)*(np.sum(Theta1[:, 1:]**2) + np.sum(Theta2[:, 1:]**2))\n",
    "    cost += regularization\n",
    "    return cost"
   ]
  },
  {
   "cell_type": "code",
   "execution_count": 9,
   "metadata": {
    "collapsed": true
   },
   "outputs": [],
   "source": [
    "def backprop(y, htheta, a1, a2, Theta1, Theta2, rlambda):\n",
    "    m = y.shape[0]\n",
    "    delta_3 = htheta - y\n",
    "    delta_2 = np.dot(delta_3, Theta2) * a2 * (1 - a2)\n",
    "    \n",
    "    theta1_grad = np.dot(delta_2[:, 1:].T, a1)/m\n",
    "    theta2_grad = np.dot(delta_3.T, a2)/m\n",
    "    \n",
    "    theta1_grad[:, 1:] += (rlambda/m) * Theta1[:, 1:]\n",
    "    theta2_grad[:, 1:] += (rlambda/m) * Theta2[:, 1:]\n",
    "    return theta1_grad, theta2_grad  "
   ]
  },
  {
   "cell_type": "code",
   "execution_count": 10,
   "metadata": {
    "collapsed": false
   },
   "outputs": [],
   "source": [
    "def grad_descent(X, y, eps_init=0.05, n_hidden_layer=25, alpha=0.1, n_iter=10000, rlambda = 9):    \n",
    "    \n",
    "    m = X.shape[1]\n",
    "    K = y.shape[1]\n",
    "    \n",
    "    Theta1 = initialize_theta(m, n_hidden_layer)\n",
    "    Theta2 = initialize_theta(n_hidden_layer, K)\n",
    "    \n",
    "    costs = [100] \n",
    "    for i in range(n_iter):\n",
    "        a1, a2, htheta = forward_prop(X, y, Theta1, Theta2)\n",
    "        cost = cost_func(htheta, y, Theta1, Theta2, rlambda)\n",
    "        costs.append(cost)\n",
    "        \n",
    "        theta1_grad, theta2_grad = backprop(y, htheta, a1, a2, Theta1, Theta2, rlambda)\n",
    "        \n",
    "        Theta1 -= alpha*theta1_grad\n",
    "        Theta2 -= alpha*theta2_grad\n",
    "    return Theta1, Theta2, costs    "
   ]
  },
  {
   "cell_type": "code",
   "execution_count": 11,
   "metadata": {
    "collapsed": false
   },
   "outputs": [
    {
     "name": "stdout",
     "output_type": "stream",
     "text": [
      "Value of cost function on training set:  0.72005219037\n"
     ]
    }
   ],
   "source": [
    "res1, res2, costs = grad_descent(X, y)\n",
    "print('Value of cost function on training set: ', costs[-1])"
   ]
  },
  {
   "cell_type": "code",
   "execution_count": 12,
   "metadata": {
    "collapsed": false
   },
   "outputs": [
    {
     "data": {
      "image/png": "[encoded data removed]",
      "text/plain": [
       "<matplotlib.figure.Figure at 0x7f284cf51710>"
      ]
     },
     "metadata": {},
     "output_type": "display_data"
    }
   ],
   "source": [
    "plt.plot(costs[1:])\n",
    "plt.xlabel('Iterations')\n",
    "plt.ylabel('Value of cost function')\n",
    "plt.show()"
   ]
  },
  {
   "cell_type": "code",
   "execution_count": 13,
   "metadata": {
    "collapsed": false
   },
   "outputs": [
    {
     "name": "stdout",
     "output_type": "stream",
     "text": [
      "Accuracy: 0.931481481481\n"
     ]
    }
   ],
   "source": [
    "# making prediction\n",
    "a1_res, a2_res, htheta_res = forward_prop(x_test, y, res1, res2)\n",
    "pred = htheta_res.argmax(axis = 1)\n",
    "\n",
    "#calculating accuracy\n",
    "print('Accuracy:', sum(pred == y_test.ravel())/len(pred))"
   ]
  }
 ],
 "metadata": {
  "kernelspec": {
   "display_name": "Python 3",
   "language": "python",
   "name": "python3"
  },
  "language_info": {
   "codemirror_mode": {
    "name": "ipython",
    "version": 3
   },
   "file_extension": ".py",
   "mimetype": "text/x-python",
   "name": "python",
   "nbconvert_exporter": "python",
   "pygments_lexer": "ipython3",
   "version": "3.6.0"
  }
 },
 "nbformat": 4,
 "nbformat_minor": 2
}
